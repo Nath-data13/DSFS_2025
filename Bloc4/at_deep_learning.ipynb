{
 "cells": [
  {
   "cell_type": "markdown",
   "id": "88d55484",
   "metadata": {},
   "source": [
    "### Import des bibliothéques\n",
    "---"
   ]
  },
  {
   "cell_type": "code",
   "execution_count": 1,
   "id": "1bc78ffe",
   "metadata": {},
   "outputs": [
    {
     "name": "stdout",
     "output_type": "stream",
     "text": [
      "Using cpu device\n"
     ]
    }
   ],
   "source": [
    "import io\n",
    "import os\n",
    "import re\n",
    "import shutil\n",
    "import tarfile\n",
    "import string\n",
    "import torch\n",
    "import tiktoken\n",
    "import requests\n",
    "import numpy as np\n",
    "import pandas as pd\n",
    "import plotly.express as px\n",
    "from plotly import graph_objects as go\n",
    "import matplotlib.pyplot as plt\n",
    "import torch.nn as nn\n",
    "import torch.optim as optim\n",
    "from torch.utils.data import DataLoader, Dataset, random_split\n",
    "from torchinfo import summary\n",
    "from sklearn.model_selection import train_test_split\n",
    "from sklearn.metrics import confusion_matrix, ConfusionMatrixDisplay, accuracy_score, classification_report\n",
    "\n",
    "device = torch.accelerator.current_accelerator().type if torch.accelerator.is_available() else \"cpu\"\n",
    "print(f\"Using {device} device\")"
   ]
  },
  {
   "cell_type": "markdown",
   "id": "9c7f8eb8",
   "metadata": {},
   "source": [
    "### Chargement des données\n",
    "---"
   ]
  },
  {
   "cell_type": "code",
   "execution_count": 2,
   "id": "48630361",
   "metadata": {},
   "outputs": [
    {
     "data": {
      "text/html": [
       "<div>\n",
       "<style scoped>\n",
       "    .dataframe tbody tr th:only-of-type {\n",
       "        vertical-align: middle;\n",
       "    }\n",
       "\n",
       "    .dataframe tbody tr th {\n",
       "        vertical-align: top;\n",
       "    }\n",
       "\n",
       "    .dataframe thead th {\n",
       "        text-align: right;\n",
       "    }\n",
       "</style>\n",
       "<table border=\"1\" class=\"dataframe\">\n",
       "  <thead>\n",
       "    <tr style=\"text-align: right;\">\n",
       "      <th></th>\n",
       "      <th>Label</th>\n",
       "      <th>Message</th>\n",
       "      <th>nbre_caractère</th>\n",
       "    </tr>\n",
       "  </thead>\n",
       "  <tbody>\n",
       "    <tr>\n",
       "      <th>0</th>\n",
       "      <td>0</td>\n",
       "      <td>Go until jurong point, crazy.. Available only ...</td>\n",
       "      <td>111</td>\n",
       "    </tr>\n",
       "    <tr>\n",
       "      <th>1</th>\n",
       "      <td>0</td>\n",
       "      <td>Ok lar... Joking wif u oni...</td>\n",
       "      <td>29</td>\n",
       "    </tr>\n",
       "    <tr>\n",
       "      <th>2</th>\n",
       "      <td>1</td>\n",
       "      <td>Free entry in 2 a wkly comp to win FA Cup fina...</td>\n",
       "      <td>155</td>\n",
       "    </tr>\n",
       "    <tr>\n",
       "      <th>3</th>\n",
       "      <td>0</td>\n",
       "      <td>U dun say so early hor... U c already then say...</td>\n",
       "      <td>49</td>\n",
       "    </tr>\n",
       "    <tr>\n",
       "      <th>4</th>\n",
       "      <td>0</td>\n",
       "      <td>Nah I don't think he goes to usf, he lives aro...</td>\n",
       "      <td>61</td>\n",
       "    </tr>\n",
       "  </tbody>\n",
       "</table>\n",
       "</div>"
      ],
      "text/plain": [
       "   Label                                            Message  nbre_caractère\n",
       "0      0  Go until jurong point, crazy.. Available only ...             111\n",
       "1      0                      Ok lar... Joking wif u oni...              29\n",
       "2      1  Free entry in 2 a wkly comp to win FA Cup fina...             155\n",
       "3      0  U dun say so early hor... U c already then say...              49\n",
       "4      0  Nah I don't think he goes to usf, he lives aro...              61"
      ]
     },
     "execution_count": 2,
     "metadata": {},
     "output_type": "execute_result"
    }
   ],
   "source": [
    "file_path = \"data/spam_clean.csv\"\n",
    "df = pd.read_csv(file_path)\n",
    "df.head()"
   ]
  },
  {
   "cell_type": "markdown",
   "id": "64294738",
   "metadata": {},
   "source": [
    "### Tokenisation et Préparation des données pour PyTorch\n",
    "---"
   ]
  },
  {
   "cell_type": "code",
   "execution_count": 3,
   "id": "892f4a76",
   "metadata": {},
   "outputs": [
    {
     "name": "stdout",
     "output_type": "stream",
     "text": [
      "Exemple texte d'entraînement  encodé : [47439, 389, 4400, 2294, 960, 9188] \n",
      "\n",
      "Pour le train, la longueur maximale est de : 259 et la moyenne de 22.44\n",
      "Pour le test, la longueur maximale est de : 169 et la moyenne de 22.71\n",
      "95 % des messages ont une longueur ≤ 52, ce qui conforme la visualisation \n",
      "\n"
     ]
    },
    {
     "data": {
      "application/vnd.plotly.v1+json": {
       "config": {
        "plotlyServerURL": "https://plot.ly"
       },
       "data": [
        {
         "bingroup": "x",
         "hovertemplate": "variable=0<br>value=%{x}<br>count=%{y}<extra></extra>",
         "legendgroup": "0",
         "marker": {
          "color": "#636efa",
          "pattern": {
           "shape": ""
          }
         },
         "name": "0",
         "nbinsx": 30,
         "orientation": "v",
         "showlegend": true,
         "type": "histogram",
         "x": {
          "bdata": "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",
          "dtype": "i2"
         },
         "xaxis": "x",
         "yaxis": "y"
        }
       ],
       "layout": {
        "annotations": [
         {
          "showarrow": false,
          "text": "Padding = 52",
          "x": 52,
          "xanchor": "left",
          "xref": "x",
          "y": 1,
          "yanchor": "top",
          "yref": "y domain"
         }
        ],
        "barmode": "relative",
        "legend": {
         "title": {
          "text": "variable"
         },
         "tracegroupgap": 0
        },
        "margin": {
         "t": 60
        },
        "shapes": [
         {
          "line": {
           "color": "red",
           "dash": "dash"
          },
          "type": "line",
          "x0": 52,
          "x1": 52,
          "xref": "x",
          "y0": 0,
          "y1": 1,
          "yref": "y domain"
         }
        ],
        "template": {
         "data": {
          "bar": [
           {
            "error_x": {
             "color": "#2a3f5f"
            },
            "error_y": {
             "color": "#2a3f5f"
            },
            "marker": {
             "line": {
              "color": "#E5ECF6",
              "width": 0.5
             },
             "pattern": {
              "fillmode": "overlay",
              "size": 10,
              "solidity": 0.2
             }
            },
            "type": "bar"
           }
          ],
          "barpolar": [
           {
            "marker": {
             "line": {
              "color": "#E5ECF6",
              "width": 0.5
             },
             "pattern": {
              "fillmode": "overlay",
              "size": 10,
              "solidity": 0.2
             }
            },
            "type": "barpolar"
           }
          ],
          "carpet": [
           {
            "aaxis": {
             "endlinecolor": "#2a3f5f",
             "gridcolor": "white",
             "linecolor": "white",
             "minorgridcolor": "white",
             "startlinecolor": "#2a3f5f"
            },
            "baxis": {
             "endlinecolor": "#2a3f5f",
             "gridcolor": "white",
             "linecolor": "white",
             "minorgridcolor": "white",
             "startlinecolor": "#2a3f5f"
            },
            "type": "carpet"
           }
          ],
          "choropleth": [
           {
            "colorbar": {
             "outlinewidth": 0,
             "ticks": ""
            },
            "type": "choropleth"
           }
          ],
          "contour": [
           {
            "colorbar": {
             "outlinewidth": 0,
             "ticks": ""
            },
            "colorscale": [
             [
              0,
              "#0d0887"
             ],
             [
              0.1111111111111111,
              "#46039f"
             ],
             [
              0.2222222222222222,
              "#7201a8"
             ],
             [
              0.3333333333333333,
              "#9c179e"
             ],
             [
              0.4444444444444444,
              "#bd3786"
             ],
             [
              0.5555555555555556,
              "#d8576b"
             ],
             [
              0.6666666666666666,
              "#ed7953"
             ],
             [
              0.7777777777777778,
              "#fb9f3a"
             ],
             [
              0.8888888888888888,
              "#fdca26"
             ],
             [
              1,
              "#f0f921"
             ]
            ],
            "type": "contour"
           }
          ],
          "contourcarpet": [
           {
            "colorbar": {
             "outlinewidth": 0,
             "ticks": ""
            },
            "type": "contourcarpet"
           }
          ],
          "heatmap": [
           {
            "colorbar": {
             "outlinewidth": 0,
             "ticks": ""
            },
            "colorscale": [
             [
              0,
              "#0d0887"
             ],
             [
              0.1111111111111111,
              "#46039f"
             ],
             [
              0.2222222222222222,
              "#7201a8"
             ],
             [
              0.3333333333333333,
              "#9c179e"
             ],
             [
              0.4444444444444444,
              "#bd3786"
             ],
             [
              0.5555555555555556,
              "#d8576b"
             ],
             [
              0.6666666666666666,
              "#ed7953"
             ],
             [
              0.7777777777777778,
              "#fb9f3a"
             ],
             [
              0.8888888888888888,
              "#fdca26"
             ],
             [
              1,
              "#f0f921"
             ]
            ],
            "type": "heatmap"
           }
          ],
          "histogram": [
           {
            "marker": {
             "pattern": {
              "fillmode": "overlay",
              "size": 10,
              "solidity": 0.2
             }
            },
            "type": "histogram"
           }
          ],
          "histogram2d": [
           {
            "colorbar": {
             "outlinewidth": 0,
             "ticks": ""
            },
            "colorscale": [
             [
              0,
              "#0d0887"
             ],
             [
              0.1111111111111111,
              "#46039f"
             ],
             [
              0.2222222222222222,
              "#7201a8"
             ],
             [
              0.3333333333333333,
              "#9c179e"
             ],
             [
              0.4444444444444444,
              "#bd3786"
             ],
             [
              0.5555555555555556,
              "#d8576b"
             ],
             [
              0.6666666666666666,
              "#ed7953"
             ],
             [
              0.7777777777777778,
              "#fb9f3a"
             ],
             [
              0.8888888888888888,
              "#fdca26"
             ],
             [
              1,
              "#f0f921"
             ]
            ],
            "type": "histogram2d"
           }
          ],
          "histogram2dcontour": [
           {
            "colorbar": {
             "outlinewidth": 0,
             "ticks": ""
            },
            "colorscale": [
             [
              0,
              "#0d0887"
             ],
             [
              0.1111111111111111,
              "#46039f"
             ],
             [
              0.2222222222222222,
              "#7201a8"
             ],
             [
              0.3333333333333333,
              "#9c179e"
             ],
             [
              0.4444444444444444,
              "#bd3786"
             ],
             [
              0.5555555555555556,
              "#d8576b"
             ],
             [
              0.6666666666666666,
              "#ed7953"
             ],
             [
              0.7777777777777778,
              "#fb9f3a"
             ],
             [
              0.8888888888888888,
              "#fdca26"
             ],
             [
              1,
              "#f0f921"
             ]
            ],
            "type": "histogram2dcontour"
           }
          ],
          "mesh3d": [
           {
            "colorbar": {
             "outlinewidth": 0,
             "ticks": ""
            },
            "type": "mesh3d"
           }
          ],
          "parcoords": [
           {
            "line": {
             "colorbar": {
              "outlinewidth": 0,
              "ticks": ""
             }
            },
            "type": "parcoords"
           }
          ],
          "pie": [
           {
            "automargin": true,
            "type": "pie"
           }
          ],
          "scatter": [
           {
            "fillpattern": {
             "fillmode": "overlay",
             "size": 10,
             "solidity": 0.2
            },
            "type": "scatter"
           }
          ],
          "scatter3d": [
           {
            "line": {
             "colorbar": {
              "outlinewidth": 0,
              "ticks": ""
             }
            },
            "marker": {
             "colorbar": {
              "outlinewidth": 0,
              "ticks": ""
             }
            },
            "type": "scatter3d"
           }
          ],
          "scattercarpet": [
           {
            "marker": {
             "colorbar": {
              "outlinewidth": 0,
              "ticks": ""
             }
            },
            "type": "scattercarpet"
           }
          ],
          "scattergeo": [
           {
            "marker": {
             "colorbar": {
              "outlinewidth": 0,
              "ticks": ""
             }
            },
            "type": "scattergeo"
           }
          ],
          "scattergl": [
           {
            "marker": {
             "colorbar": {
              "outlinewidth": 0,
              "ticks": ""
             }
            },
            "type": "scattergl"
           }
          ],
          "scattermap": [
           {
            "marker": {
             "colorbar": {
              "outlinewidth": 0,
              "ticks": ""
             }
            },
            "type": "scattermap"
           }
          ],
          "scattermapbox": [
           {
            "marker": {
             "colorbar": {
              "outlinewidth": 0,
              "ticks": ""
             }
            },
            "type": "scattermapbox"
           }
          ],
          "scatterpolar": [
           {
            "marker": {
             "colorbar": {
              "outlinewidth": 0,
              "ticks": ""
             }
            },
            "type": "scatterpolar"
           }
          ],
          "scatterpolargl": [
           {
            "marker": {
             "colorbar": {
              "outlinewidth": 0,
              "ticks": ""
             }
            },
            "type": "scatterpolargl"
           }
          ],
          "scatterternary": [
           {
            "marker": {
             "colorbar": {
              "outlinewidth": 0,
              "ticks": ""
             }
            },
            "type": "scatterternary"
           }
          ],
          "surface": [
           {
            "colorbar": {
             "outlinewidth": 0,
             "ticks": ""
            },
            "colorscale": [
             [
              0,
              "#0d0887"
             ],
             [
              0.1111111111111111,
              "#46039f"
             ],
             [
              0.2222222222222222,
              "#7201a8"
             ],
             [
              0.3333333333333333,
              "#9c179e"
             ],
             [
              0.4444444444444444,
              "#bd3786"
             ],
             [
              0.5555555555555556,
              "#d8576b"
             ],
             [
              0.6666666666666666,
              "#ed7953"
             ],
             [
              0.7777777777777778,
              "#fb9f3a"
             ],
             [
              0.8888888888888888,
              "#fdca26"
             ],
             [
              1,
              "#f0f921"
             ]
            ],
            "type": "surface"
           }
          ],
          "table": [
           {
            "cells": {
             "fill": {
              "color": "#EBF0F8"
             },
             "line": {
              "color": "white"
             }
            },
            "header": {
             "fill": {
              "color": "#C8D4E3"
             },
             "line": {
              "color": "white"
             }
            },
            "type": "table"
           }
          ]
         },
         "layout": {
          "annotationdefaults": {
           "arrowcolor": "#2a3f5f",
           "arrowhead": 0,
           "arrowwidth": 1
          },
          "autotypenumbers": "strict",
          "coloraxis": {
           "colorbar": {
            "outlinewidth": 0,
            "ticks": ""
           }
          },
          "colorscale": {
           "diverging": [
            [
             0,
             "#8e0152"
            ],
            [
             0.1,
             "#c51b7d"
            ],
            [
             0.2,
             "#de77ae"
            ],
            [
             0.3,
             "#f1b6da"
            ],
            [
             0.4,
             "#fde0ef"
            ],
            [
             0.5,
             "#f7f7f7"
            ],
            [
             0.6,
             "#e6f5d0"
            ],
            [
             0.7,
             "#b8e186"
            ],
            [
             0.8,
             "#7fbc41"
            ],
            [
             0.9,
             "#4d9221"
            ],
            [
             1,
             "#276419"
            ]
           ],
           "sequential": [
            [
             0,
             "#0d0887"
            ],
            [
             0.1111111111111111,
             "#46039f"
            ],
            [
             0.2222222222222222,
             "#7201a8"
            ],
            [
             0.3333333333333333,
             "#9c179e"
            ],
            [
             0.4444444444444444,
             "#bd3786"
            ],
            [
             0.5555555555555556,
             "#d8576b"
            ],
            [
             0.6666666666666666,
             "#ed7953"
            ],
            [
             0.7777777777777778,
             "#fb9f3a"
            ],
            [
             0.8888888888888888,
             "#fdca26"
            ],
            [
             1,
             "#f0f921"
            ]
           ],
           "sequentialminus": [
            [
             0,
             "#0d0887"
            ],
            [
             0.1111111111111111,
             "#46039f"
            ],
            [
             0.2222222222222222,
             "#7201a8"
            ],
            [
             0.3333333333333333,
             "#9c179e"
            ],
            [
             0.4444444444444444,
             "#bd3786"
            ],
            [
             0.5555555555555556,
             "#d8576b"
            ],
            [
             0.6666666666666666,
             "#ed7953"
            ],
            [
             0.7777777777777778,
             "#fb9f3a"
            ],
            [
             0.8888888888888888,
             "#fdca26"
            ],
            [
             1,
             "#f0f921"
            ]
           ]
          },
          "colorway": [
           "#636efa",
           "#EF553B",
           "#00cc96",
           "#ab63fa",
           "#FFA15A",
           "#19d3f3",
           "#FF6692",
           "#B6E880",
           "#FF97FF",
           "#FECB52"
          ],
          "font": {
           "color": "#2a3f5f"
          },
          "geo": {
           "bgcolor": "white",
           "lakecolor": "white",
           "landcolor": "#E5ECF6",
           "showlakes": true,
           "showland": true,
           "subunitcolor": "white"
          },
          "hoverlabel": {
           "align": "left"
          },
          "hovermode": "closest",
          "mapbox": {
           "style": "light"
          },
          "paper_bgcolor": "white",
          "plot_bgcolor": "#E5ECF6",
          "polar": {
           "angularaxis": {
            "gridcolor": "white",
            "linecolor": "white",
            "ticks": ""
           },
           "bgcolor": "#E5ECF6",
           "radialaxis": {
            "gridcolor": "white",
            "linecolor": "white",
            "ticks": ""
           }
          },
          "scene": {
           "xaxis": {
            "backgroundcolor": "#E5ECF6",
            "gridcolor": "white",
            "gridwidth": 2,
            "linecolor": "white",
            "showbackground": true,
            "ticks": "",
            "zerolinecolor": "white"
           },
           "yaxis": {
            "backgroundcolor": "#E5ECF6",
            "gridcolor": "white",
            "gridwidth": 2,
            "linecolor": "white",
            "showbackground": true,
            "ticks": "",
            "zerolinecolor": "white"
           },
           "zaxis": {
            "backgroundcolor": "#E5ECF6",
            "gridcolor": "white",
            "gridwidth": 2,
            "linecolor": "white",
            "showbackground": true,
            "ticks": "",
            "zerolinecolor": "white"
           }
          },
          "shapedefaults": {
           "line": {
            "color": "#2a3f5f"
           }
          },
          "ternary": {
           "aaxis": {
            "gridcolor": "white",
            "linecolor": "white",
            "ticks": ""
           },
           "baxis": {
            "gridcolor": "white",
            "linecolor": "white",
            "ticks": ""
           },
           "bgcolor": "#E5ECF6",
           "caxis": {
            "gridcolor": "white",
            "linecolor": "white",
            "ticks": ""
           }
          },
          "title": {
           "x": 0.05
          },
          "xaxis": {
           "automargin": true,
           "gridcolor": "white",
           "linecolor": "white",
           "ticks": "",
           "title": {
            "standoff": 15
           },
           "zerolinecolor": "white",
           "zerolinewidth": 2
          },
          "yaxis": {
           "automargin": true,
           "gridcolor": "white",
           "linecolor": "white",
           "ticks": "",
           "title": {
            "standoff": 15
           },
           "zerolinecolor": "white",
           "zerolinewidth": 2
          }
         }
        },
        "title": {
         "text": "Distribution de la longueur des messages"
        },
        "xaxis": {
         "anchor": "y",
         "domain": [
          0,
          1
         ],
         "title": {
          "text": "Nombre de tokens par message"
         }
        },
        "yaxis": {
         "anchor": "x",
         "domain": [
          0,
          1
         ],
         "title": {
          "text": "Nombre de messages"
         }
        }
       }
      }
     },
     "metadata": {},
     "output_type": "display_data"
    },
    {
     "name": "stdout",
     "output_type": "stream",
     "text": [
      "Sur le graph, on constate que la majorité des messages ont moins de 50 tokens, avec un pic autour de 10/20 tokens\n",
      "Longueur des séquences d'entraînement après padding : 52\n",
      "Longueur des séquences de test après padding : 52\n",
      "\n",
      "tensor([0., 0., 0., 0., 0., 0., 0., 0., 1., 0., 0., 0., 1., 0., 0., 0., 0., 0.,\n",
      "        0., 0., 0., 0., 0., 0., 0., 0., 0., 0., 0., 0., 0., 1.])\n",
      "tensor([[24220,    11,   304,  ...,     0,     0,     0],\n",
      "        [47618, 30198,  2403,  ...,     0,     0,     0],\n",
      "        [11839,   902,   701,  ...,     0,     0,     0],\n",
      "        ...,\n",
      "        [   53,  1940,   396,  ...,     0,     0,     0],\n",
      "        [   56,   455,   912,  ...,     0,     0,     0],\n",
      "        [ 5519,   499,  1390,  ...,     0,     0,     0]])\n"
     ]
    }
   ],
   "source": [
    "# chargement du tokenisateur pour découpage en token \n",
    "# ( 1 token classique = 1 mot (pb si mot rare) - 1 token moderne tiktoken/bert = 1 sous-mot, morceaux de mots)\n",
    "tokenizer = tiktoken.get_encoding(\"cl100k_base\")\n",
    "\n",
    "# fonction encodage\n",
    "def encode_texts(texts):\n",
    "    return [tokenizer.encode(text) for text in texts] # prend une liste de textes et retourne une liste de listes de tokens.\n",
    "\n",
    "# Séparation train/test\n",
    "train_texts, test_texts, train_labels, test_labels = train_test_split(\n",
    "    df['Message'],\n",
    "    df['Label'],\n",
    "    test_size=0.2,\n",
    "    random_state=42,\n",
    "    stratify=df['Label'] # désequilibre montrer en eda\n",
    ")\n",
    "\n",
    "# Encoder les textes en tokens : listes de nombres qui représentent les messages\n",
    "train_tokens = encode_texts(train_texts.tolist())\n",
    "test_tokens = encode_texts(test_texts.tolist())\n",
    "\n",
    "print(f\"Exemple texte d'entraînement  encodé : {train_tokens[0]} \\n\")\n",
    "\n",
    "# Aanlyse des longueurs\n",
    "# Calcul longueur des messages (toutes les entrées en Pytorch doivent avoir la même dimension = padding)\n",
    "train_len = [len(seq) for seq in train_tokens]\n",
    "test_len = [len(seq) for seq in test_tokens]\n",
    "print(f\"Pour le train, la longueur maximale est de : {max(train_len)} et la moyenne de {np.mean(train_len).round(2)}\")\n",
    "print(f\"Pour le test, la longueur maximale est de : {max(test_len)} et la moyenne de {np.mean(test_len).round(2)}\")\n",
    "\n",
    "# Choix du max_len avec le calcul du percentile \n",
    "max_len_95 = int(np.percentile(train_len, 95))\n",
    "print(f\"95 % des messages ont une longueur ≤ {max_len_95}, ce qui conforme la visualisation \\n\")\n",
    "\n",
    "# Visualisation Distribution longueur de chaque message pour le train + ligne de padding\n",
    "fig = px.histogram(\n",
    "    train_len, \n",
    "    nbins=30)\n",
    "fig.add_vline(\n",
    "    x=max_len_95, \n",
    "    line_dash=\"dash\", \n",
    "    line_color=\"red\",\n",
    "    annotation_text=f\"Padding = {max_len_95}\", \n",
    "    annotation_position=\"top right\")\n",
    "fig.update_layout(\n",
    "    title=\"Distribution de la longueur des messages\",\n",
    "    xaxis_title=\"Nombre de tokens par message\",\n",
    "    yaxis_title=\"Nombre de messages\"\n",
    ")\n",
    "fig.show()\n",
    "print(\"Sur le graph, on constate que la majorité des messages ont moins de 50 tokens, avec un pic autour de 10/20 tokens\")\n",
    "\n",
    "# Padding (séquences avec la même longueur à 50)\n",
    "def pad_sequences(sequences, max_length):\n",
    "    # Pad ou tronque les séquences pour qu'elles aient la même longueur\n",
    "    return [seq[:max_length] + [0]*(max_length - len(seq)) if len(seq) < max_length else seq[:max_length] for seq in sequences]\n",
    "\n",
    "train_tokens_padded = pad_sequences(train_tokens, max_len_95)\n",
    "test_tokens_padded  = pad_sequences(test_tokens, max_len_95)\n",
    "\n",
    "print(f\"Longueur des séquences d'entraînement après padding : {len(train_tokens_padded[0])}\")\n",
    "print(f\"Longueur des séquences de test après padding : {len(test_tokens_padded[0])}\\n\")\n",
    "\n",
    "# Dataset Pytorch\n",
    "class ATTDataset(Dataset):\n",
    "    def __init__(self, texts, labels):\n",
    "        self.texts = torch.tensor(texts, dtype=torch.long)\n",
    "        self.labels = torch.tensor(labels, dtype=torch.float32)  # float32 pour BCEWithLogitsLoss\n",
    "    def __len__(self):\n",
    "        return len(self.texts)\n",
    "    def __getitem__(self, idx):\n",
    "        return self.texts[idx], self.labels[idx]\n",
    "\n",
    "# Dataset Train et test \n",
    "train_dataset = ATTDataset(train_tokens_padded, train_labels.tolist())\n",
    "test_dataset = ATTDataset(test_tokens_padded, test_labels.tolist())\n",
    "\n",
    "# Dataset Train/Validation slipt à l'intérieur du train\n",
    "train_size = int(0.8 * len(train_dataset))\n",
    "val_size   = len(train_dataset) - train_size\n",
    "train_dataset, val_dataset = random_split(train_dataset, [train_size, val_size])\n",
    "\n",
    "# DataLoaders\n",
    "train_loader = DataLoader(train_dataset, batch_size=32, shuffle=True)\n",
    "val_loader   = DataLoader(val_dataset, batch_size=32, shuffle=False)\n",
    "test_loader  = DataLoader(test_dataset, batch_size=32, shuffle=False)\n",
    "\n",
    "text, label = next(iter(train_loader))\n",
    "print(label)\n",
    "print(text)\n"
   ]
  },
  {
   "cell_type": "markdown",
   "id": "c33b103e",
   "metadata": {},
   "source": [
    "### Modéle réseau de neurones\n",
    "---\n",
    "Le modèle choisi pour la détection de spam est un TextClassifier, qui contient une couche d’Embedding suivie d’un pooling et d’une couche linéaire pour produire la prédiction spam/ham.”"
   ]
  },
  {
   "cell_type": "code",
   "execution_count": 4,
   "id": "1a4316fe",
   "metadata": {},
   "outputs": [
    {
     "name": "stdout",
     "output_type": "stream",
     "text": [
      "TextClassifier(\n",
      "  (embedding): Embedding(100277, 16, padding_idx=0)\n",
      "  (pooling): AdaptiveAvgPool1d(output_size=1)\n",
      "  (fc): Linear(in_features=16, out_features=1, bias=True)\n",
      ")\n"
     ]
    },
    {
     "data": {
      "text/plain": [
       "==========================================================================================\n",
       "Layer (type:depth-idx)                   Output Shape              Param #\n",
       "==========================================================================================\n",
       "TextClassifier                           [32, 1]                   --\n",
       "├─Embedding: 1-1                         [32, 52, 16]              1,604,432\n",
       "├─Linear: 1-2                            [32, 1]                   17\n",
       "==========================================================================================\n",
       "Total params: 1,604,449\n",
       "Trainable params: 1,604,449\n",
       "Non-trainable params: 0\n",
       "Total mult-adds (Units.MEGABYTES): 51.34\n",
       "==========================================================================================\n",
       "Input size (MB): 0.01\n",
       "Forward/backward pass size (MB): 0.21\n",
       "Params size (MB): 6.42\n",
       "Estimated Total Size (MB): 6.64\n",
       "=========================================================================================="
      ]
     },
     "execution_count": 4,
     "metadata": {},
     "output_type": "execute_result"
    }
   ],
   "source": [
    "# TextClassifier\n",
    "vocab_size = tokenizer.n_vocab\n",
    "\n",
    "class TextClassifier(nn.Module):\n",
    "    def __init__(self, vocab_size, embed_dim=16): # initialise le modéle\n",
    "        super().__init__()\n",
    "        self.embedding = nn.Embedding(vocab_size, embed_dim, padding_idx=0) # couche embedding : transforme les tokens en vecteur\n",
    "        self.pooling = nn.AdaptiveAvgPool1d(1) # reduit la dimension (vecteur moy, le modéle n'a plus qu'un seul vecteur à analyser)\n",
    "        self.fc = nn.Linear(embed_dim, 1)  # output logit pour BCEWithLogitsLoss\n",
    "\n",
    "    def forward(self, text):\n",
    "        # text : (batch_size, seq_len)\n",
    "        embedded = self.embedding(text)          # (batch_size, seq_len, embed_dim)\n",
    "        pooled = embedded.mean(dim=1)            # (batch_size, embed_dim) : moyenne sur seq_len\n",
    "        return self.fc(pooled)                    # (batch_size, 1) : logit brut\n",
    "\n",
    "model = TextClassifier(vocab_size=vocab_size, embed_dim=16)\n",
    "\n",
    "print(model)\n",
    "summary(model, input_data=text)\n"
   ]
  },
  {
   "cell_type": "markdown",
   "id": "2bc408ca",
   "metadata": {},
   "source": [
    "### Entrainement du Modéle\n",
    "---"
   ]
  },
  {
   "cell_type": "code",
   "execution_count": 5,
   "id": "16f8ea58",
   "metadata": {},
   "outputs": [
    {
     "name": "stdout",
     "output_type": "stream",
     "text": [
      "Epoch 1/20 | Train Loss: 0.6139, Train Acc: 0.8729 | Val Loss: 0.5877, Val Acc: 0.8677\n",
      "Epoch 2/20 | Train Loss: 0.5548, Train Acc: 0.8808 | Val Loss: 0.5246, Val Acc: 0.8767\n",
      "Epoch 3/20 | Train Loss: 0.4824, Train Acc: 0.8990 | Val Loss: 0.4509, Val Acc: 0.8969\n",
      "Epoch 4/20 | Train Loss: 0.4039, Train Acc: 0.9206 | Val Loss: 0.3783, Val Acc: 0.9193\n",
      "Epoch 5/20 | Train Loss: 0.3324, Train Acc: 0.9394 | Val Loss: 0.3165, Val Acc: 0.9383\n",
      "Epoch 6/20 | Train Loss: 0.2731, Train Acc: 0.9532 | Val Loss: 0.2677, Val Acc: 0.9529\n",
      "Epoch 7/20 | Train Loss: 0.2272, Train Acc: 0.9635 | Val Loss: 0.2298, Val Acc: 0.9585\n",
      "Epoch 8/20 | Train Loss: 0.1914, Train Acc: 0.9705 | Val Loss: 0.2010, Val Acc: 0.9641\n",
      "Epoch 9/20 | Train Loss: 0.1641, Train Acc: 0.9764 | Val Loss: 0.1784, Val Acc: 0.9664\n",
      "Epoch 10/20 | Train Loss: 0.1424, Train Acc: 0.9795 | Val Loss: 0.1609, Val Acc: 0.9709\n",
      "Epoch 11/20 | Train Loss: 0.1252, Train Acc: 0.9820 | Val Loss: 0.1467, Val Acc: 0.9709\n",
      "Epoch 12/20 | Train Loss: 0.1111, Train Acc: 0.9829 | Val Loss: 0.1353, Val Acc: 0.9709\n",
      "Epoch 13/20 | Train Loss: 0.0994, Train Acc: 0.9863 | Val Loss: 0.1258, Val Acc: 0.9720\n",
      "Epoch 14/20 | Train Loss: 0.0897, Train Acc: 0.9879 | Val Loss: 0.1180, Val Acc: 0.9731\n",
      "Epoch 15/20 | Train Loss: 0.0833, Train Acc: 0.9891 | Val Loss: 0.1113, Val Acc: 0.9753\n",
      "Epoch 16/20 | Train Loss: 0.0743, Train Acc: 0.9905 | Val Loss: 0.1056, Val Acc: 0.9753\n",
      "Epoch 17/20 | Train Loss: 0.0683, Train Acc: 0.9907 | Val Loss: 0.1008, Val Acc: 0.9753\n",
      "Epoch 18/20 | Train Loss: 0.0627, Train Acc: 0.9910 | Val Loss: 0.0964, Val Acc: 0.9787\n",
      "Epoch 19/20 | Train Loss: 0.0579, Train Acc: 0.9919 | Val Loss: 0.0926, Val Acc: 0.9787\n",
      "Epoch 20/20 | Train Loss: 0.0538, Train Acc: 0.9921 | Val Loss: 0.0893, Val Acc: 0.9787\n"
     ]
    }
   ],
   "source": [
    "# Définition de la loss et de l'optimiseur\n",
    "criterion = nn.BCEWithLogitsLoss()  # prend les logits bruts du modèle (sortie non transformée du modéle) fonction de paerte\n",
    "optimizer = optim.Adam(model.parameters(), lr=0.001) # lr learning rate : taille du pas, Adam optimiseur\n",
    "\n",
    "# Fonction d'entraînement\n",
    "def train(model, train_loader, val_loader, criterion, optimizer, epochs=20):\n",
    "    history = {\"loss\": [], \"val_loss\": [], \"accuracy\": [], \"val_accuracy\": []}\n",
    "\n",
    "    for epoch in range(epochs):\n",
    "        model.train()  # mode entraînement\n",
    "        total_loss, correct = 0, 0\n",
    "\n",
    "        for inputs, labels in train_loader:\n",
    "            inputs, labels = inputs.to(device), labels.to(device).float()\n",
    "\n",
    "            optimizer.zero_grad()            # reset des gradients\n",
    "            logits = model(inputs).squeeze() # sortie du modèle\n",
    "            loss = criterion(logits, labels) # calcul de la loss\n",
    "            loss.backward()                  # backpropagation\n",
    "            optimizer.step()                 # mise à jour des poids\n",
    "\n",
    "            total_loss += loss.item()\n",
    "            preds = (torch.sigmoid(logits) > 0.5).float()  # convertit logits → 0 ou 1\n",
    "            correct += (preds == labels).sum().item()\n",
    "\n",
    "        train_loss = total_loss / len(train_loader)\n",
    "        train_acc = correct / len(train_loader.dataset)\n",
    "\n",
    "        # Validation :mode évaluation (model.eval()), gradients désactivés (torch.no_grad()). \n",
    "        # Pour chaque batch : calcul des logits, perte avec criterion, sigmoid pour obtenir les prédictions binaires, \n",
    "        # comparaison avec les labels pour compter les bonnes réponses. Calcul final : perte moyenne et précision.\n",
    "        model.eval()\n",
    "        val_loss, val_correct = 0, 0\n",
    "        with torch.no_grad():\n",
    "            for inputs, labels in val_loader:\n",
    "                inputs, labels = inputs.to(device), labels.to(device).float()\n",
    "                logits = model(inputs).squeeze()\n",
    "                loss = criterion(logits, labels)\n",
    "                val_loss += loss.item()\n",
    "\n",
    "                preds = (torch.sigmoid(logits) > 0.5).float()\n",
    "                val_correct += (preds == labels).sum().item()\n",
    "\n",
    "        val_loss /= len(val_loader)\n",
    "        val_acc = val_correct / len(val_loader.dataset)\n",
    "\n",
    "        # Sauvegarde et affichage des métriques\n",
    "        history[\"loss\"].append(train_loss)\n",
    "        history[\"val_loss\"].append(val_loss)\n",
    "        history[\"accuracy\"].append(train_acc)\n",
    "        history[\"val_accuracy\"].append(val_acc)\n",
    "\n",
    "        print(f\"Epoch {epoch+1}/{epochs} | \"\n",
    "              f\"Train Loss: {train_loss:.4f}, Train Acc: {train_acc:.4f} | \"\n",
    "              f\"Val Loss: {val_loss:.4f}, Val Acc: {val_acc:.4f}\")\n",
    "\n",
    "    return history\n",
    "\n",
    "# Appel de la fonction d'entraînement\n",
    "history = train(model, train_loader, val_loader, criterion, optimizer, epochs=20)\n"
   ]
  },
  {
   "cell_type": "markdown",
   "id": "c7acafcd",
   "metadata": {},
   "source": [
    "### Evaluation et analyse\n",
    "---"
   ]
  },
  {
   "cell_type": "code",
   "execution_count": 6,
   "id": "2b6e9810",
   "metadata": {},
   "outputs": [
    {
     "data": {
      "image/png": "[encoded data removed]",
      "text/plain": [
       "<Figure size 1500x500 with 2 Axes>"
      ]
     },
     "metadata": {},
     "output_type": "display_data"
    },
    {
     "name": "stdout",
     "output_type": "stream",
     "text": [
      "\n",
      " Le modéle est  fiable avec une accuracy de 0.99 pour le train et pour la val.\n",
      " Les erreurs sont faibles également. Pas d'overfitting.\n"
     ]
    },
    {
     "data": {
      "image/png": "[encoded data removed]",
      "text/plain": [
       "<Figure size 640x480 with 2 Axes>"
      ]
     },
     "metadata": {},
     "output_type": "display_data"
    },
    {
     "name": "stdout",
     "output_type": "stream",
     "text": [
      "Nous avons un échantillon de 892 messages, le modéle est précis, il ne fait aucune fausse alerte\n",
      "  Néanmoins, il rate quelques positifs, avec 11 faux-négatif\n",
      "\n",
      "Rapport de classification :\n",
      "              precision    recall  f1-score   support\n",
      "\n",
      "         0.0      0.978     0.997     0.988       769\n",
      "         1.0      0.981     0.862     0.918       123\n",
      "\n",
      "    accuracy                          0.979       892\n",
      "   macro avg      0.980     0.930     0.953       892\n",
      "weighted avg      0.979     0.979     0.978       892\n",
      "\n",
      "Accuracy : Globalement, le modèle se trompe très rarement : 99% de bonnes prédictions.\n",
      "Précision : Quand il dit spam, c’est toujours du spam (0 faux positifs).\n",
      "Recall : Il attrape 93% des spams, mais en laisse encore passer quelques-uns.\n",
      "F1 : Le modèle est équilibré : à la fois fiable et efficace sur les spams.\n"
     ]
    }
   ],
   "source": [
    "# Visualisation Loss et Accuracy\n",
    "plt.figure(figsize=(15, 5))\n",
    "\n",
    "# Graphique 1 : Évolution de la perte (loss)\n",
    "plt.subplot(1, 2, 1)\n",
    "plt.plot(history[\"loss\"], label=\"Train Loss\", color=\"blue\")\n",
    "plt.plot(history[\"val_loss\"], label=\"Validation Loss\", color=\"orange\")\n",
    "plt.title(\"Évolution de la perte (Loss)\")\n",
    "plt.xlabel(\"Époque (Epoch)\")\n",
    "plt.ylabel(\"Perte (Loss)\")\n",
    "plt.legend()\n",
    "plt.grid(True)\n",
    "\n",
    "# Graphique 2 : Évolution de la précision (accuracy)\n",
    "plt.subplot(1, 2, 2)\n",
    "plt.plot(history[\"accuracy\"], label=\"Train Accuracy\", color=\"blue\")\n",
    "plt.plot(history[\"val_accuracy\"], label=\"Validation Accuracy\", color=\"orange\")\n",
    "plt.title(\"Évolution de la précision (Accuracy)\")\n",
    "plt.xlabel(\"Époque (Epoch)\")\n",
    "plt.ylabel(\"Précision (Accuracy)\")\n",
    "plt.legend()\n",
    "plt.grid(True)\n",
    "\n",
    "plt.tight_layout()\n",
    "plt.show()\n",
    "\n",
    "print(f\"\\n Le modéle est  fiable avec une accuracy de 0.99 pour le train et pour la val.\\n Les erreurs sont faibles également. Pas d'overfitting.\")\n",
    "\n",
    "# Matrice de Confusion sur le Val\n",
    "y_true, y_pred = [], []\n",
    "model.eval()\n",
    "with torch.no_grad():\n",
    "    for inputs, labels in val_loader:\n",
    "        inputs = inputs.to(device)\n",
    "        logits = model(inputs).squeeze()\n",
    "        preds = (torch.sigmoid(logits) > 0.5).int().cpu().numpy()\n",
    "        y_true.extend(labels.cpu().numpy())\n",
    "        y_pred.extend(preds)\n",
    "\n",
    "cm = confusion_matrix(y_true, y_pred)\n",
    "disp = ConfusionMatrixDisplay(confusion_matrix=cm)\n",
    "disp.plot(cmap=\"Blues\")\n",
    "plt.title(\"Matrice de confusion\")\n",
    "plt.show()\n",
    "\n",
    "print(f\"Nous avons un échantillon de 892 messages, le modéle est précis, il ne fait aucune fausse alerte\\n  Néanmoins, il rate quelques positifs, avec 11 faux-négatif\")\n",
    "\n",
    "# Rapport complet (précision, rappel, F1 par classe)\n",
    "print(\"\\nRapport de classification :\")\n",
    "print(classification_report(y_true, y_pred, digits=3))\n",
    "print(\"Accuracy : Globalement, le modèle se trompe très rarement : 99% de bonnes prédictions.\\nPrécision : Quand il dit spam, c’est toujours du spam (0 faux positifs).\\nRecall : Il attrape 93% des spams, mais en laisse encore passer quelques-uns.\\nF1 : Le modèle est équilibré : à la fois fiable et efficace sur les spams.\")\n",
    "\n"
   ]
  },
  {
   "cell_type": "markdown",
   "id": "f0ff87a9",
   "metadata": {},
   "source": [
    "### Sauvegarde du Modéle\n",
    "---"
   ]
  },
  {
   "cell_type": "code",
   "execution_count": 7,
   "id": "7aa0c92d",
   "metadata": {},
   "outputs": [],
   "source": [
    "torch.save(model, \"textclassifier_bcewithlogitsloss_full.pth\")\n"
   ]
  }
 ],
 "metadata": {
  "kernelspec": {
   "display_name": "pytorch_deep",
   "language": "python",
   "name": "python3"
  },
  "language_info": {
   "codemirror_mode": {
    "name": "ipython",
    "version": 3
   },
   "file_extension": ".py",
   "mimetype": "text/x-python",
   "name": "python",
   "nbconvert_exporter": "python",
   "pygments_lexer": "ipython3",
   "version": "3.11.11"
  }
 },
 "nbformat": 4,
 "nbformat_minor": 5
}
