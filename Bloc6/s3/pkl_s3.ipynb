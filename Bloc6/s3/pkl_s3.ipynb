{
 "cells": [
  {
   "cell_type": "markdown",
   "id": "4cbfa570",
   "metadata": {},
   "source": [
    "### Import des bibliothéques\n",
    "---"
   ]
  },
  {
   "cell_type": "code",
   "execution_count": 3,
   "id": "19ea0f84",
   "metadata": {},
   "outputs": [],
   "source": [
    "import os\n",
    "import boto3\n",
    "import pandas as pd\n",
    "from dotenv import load_dotenv"
   ]
  },
  {
   "cell_type": "markdown",
   "id": "ae15cbe8",
   "metadata": {},
   "source": [
    "### Chargement secrets.env\n",
    "---"
   ]
  },
  {
   "cell_type": "code",
   "execution_count": 4,
   "id": "62a913c9",
   "metadata": {},
   "outputs": [],
   "source": [
    "load_dotenv(\"secrets.env\")\n",
    "\n",
    "# Récupérer les valeurs\n",
    "AWS_KEY = os.getenv(\"AWS_ACCESS_KEY_ID\")\n",
    "AWS_SECRET = os.getenv(\"AWS_SECRET_ACCESS_KEY\")\n",
    "BUCKET_NAME = os.getenv(\"AWS_BUCKET_NAME\")\n",
    "LOCAL_MODEL_DIR = \"pkl\"             # dossier local avec les .pkl\n",
    "S3_MODEL_DIR = \"models\"             # dossier dans le bucket"
   ]
  },
  {
   "cell_type": "markdown",
   "id": "a2f2c0ce",
   "metadata": {},
   "source": [
    "### Initialiser S3 et envoie fichier Excel\n",
    "---"
   ]
  },
  {
   "cell_type": "code",
   "execution_count": 5,
   "id": "111e5f40",
   "metadata": {},
   "outputs": [
    {
     "name": "stdout",
     "output_type": "stream",
     "text": [
      "✅ Upload model_ols_Déblais_gravats.pkl -> s3://mygeodechet/models/model_ols_Déblais_gravats.pkl\n",
      "✅ Upload model_ols_Déchets_verts.pkl -> s3://mygeodechet/models/model_ols_Déchets_verts.pkl\n",
      "✅ Upload model_ols_Encombrants.pkl -> s3://mygeodechet/models/model_ols_Encombrants.pkl\n",
      "✅ Upload model_ols_Matériaux_recyclables.pkl -> s3://mygeodechet/models/model_ols_Matériaux_recyclables.pkl\n",
      "✅ Upload model_ols_Total_autres_dechets.pkl -> s3://mygeodechet/models/model_ols_Total_autres_dechets.pkl\n"
     ]
    }
   ],
   "source": [
    "s3 = boto3.client(\"s3\", \n",
    "                  aws_access_key_id=AWS_KEY, \n",
    "                  aws_secret_access_key=AWS_SECRET)\n",
    "\n",
    "# envoi des fichiers .pkl sur S3\n",
    "# Parcourir tous les fichiers dans LOCAL_MODEL_DIR\n",
    "for filename in os.listdir(LOCAL_MODEL_DIR):\n",
    "    if filename.endswith(\".pkl\"):\n",
    "        local_path = os.path.join(LOCAL_MODEL_DIR, filename)\n",
    "        s3_path = f\"{S3_MODEL_DIR}/{filename}\"  # chemin dans le bucket\n",
    "        s3.upload_file(local_path, BUCKET_NAME, s3_path)\n",
    "        print(f\"✅ Upload {filename} -> s3://{BUCKET_NAME}/{s3_path}\")"
   ]
  },
  {
   "cell_type": "markdown",
   "id": "95c8fb06",
   "metadata": {},
   "source": []
  },
  {
   "cell_type": "code",
   "execution_count": null,
   "id": "df0330e1",
   "metadata": {},
   "outputs": [],
   "source": []
  }
 ],
 "metadata": {
  "kernelspec": {
   "display_name": "base",
   "language": "python",
   "name": "python3"
  },
  "language_info": {
   "codemirror_mode": {
    "name": "ipython",
    "version": 3
   },
   "file_extension": ".py",
   "mimetype": "text/x-python",
   "name": "python",
   "nbconvert_exporter": "python",
   "pygments_lexer": "ipython3",
   "version": "3.12.9"
  }
 },
 "nbformat": 4,
 "nbformat_minor": 5
}
