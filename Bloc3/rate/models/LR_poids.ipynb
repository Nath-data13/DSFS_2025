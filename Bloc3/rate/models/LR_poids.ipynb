{
 "cells": [
  {
   "cell_type": "markdown",
   "id": "0131099d",
   "metadata": {},
   "source": [
    "### Import des bibliothéques\n",
    "---"
   ]
  },
  {
   "cell_type": "code",
   "execution_count": 2,
   "id": "a994a2e9",
   "metadata": {},
   "outputs": [],
   "source": [
    "import pandas as pd\n",
    "import numpy as np\n",
    "\n",
    "\n",
    "from sklearn.model_selection import train_test_split\n",
    "from sklearn.pipeline import Pipeline\n",
    "from sklearn.impute import SimpleImputer\n",
    "from sklearn.preprocessing import StandardScaler\n",
    "from sklearn.preprocessing import OneHotEncoder\n",
    "from sklearn.compose import ColumnTransformer\n",
    "from sklearn.linear_model import LogisticRegression\n",
    "from sklearn.metrics import f1_score, confusion_matrix, accuracy_score, precision_score, recall_score,confusion_matrix, classification_report, roc_curve, auc"
   ]
  },
  {
   "cell_type": "markdown",
   "id": "4d58d94a",
   "metadata": {},
   "source": [
    "###  Chargement des données\n",
    "---"
   ]
  },
  {
   "cell_type": "code",
   "execution_count": 3,
   "id": "b358a886",
   "metadata": {},
   "outputs": [
    {
     "data": {
      "text/html": [
       "<div>\n",
       "<style scoped>\n",
       "    .dataframe tbody tr th:only-of-type {\n",
       "        vertical-align: middle;\n",
       "    }\n",
       "\n",
       "    .dataframe tbody tr th {\n",
       "        vertical-align: top;\n",
       "    }\n",
       "\n",
       "    .dataframe thead th {\n",
       "        text-align: right;\n",
       "    }\n",
       "</style>\n",
       "<table border=\"1\" class=\"dataframe\">\n",
       "  <thead>\n",
       "    <tr style=\"text-align: right;\">\n",
       "      <th></th>\n",
       "      <th>country</th>\n",
       "      <th>age</th>\n",
       "      <th>new_user</th>\n",
       "      <th>source</th>\n",
       "      <th>total_pages_visited</th>\n",
       "      <th>converted</th>\n",
       "    </tr>\n",
       "  </thead>\n",
       "  <tbody>\n",
       "    <tr>\n",
       "      <th>0</th>\n",
       "      <td>China</td>\n",
       "      <td>22</td>\n",
       "      <td>1</td>\n",
       "      <td>Direct</td>\n",
       "      <td>2</td>\n",
       "      <td>0</td>\n",
       "    </tr>\n",
       "    <tr>\n",
       "      <th>1</th>\n",
       "      <td>UK</td>\n",
       "      <td>21</td>\n",
       "      <td>1</td>\n",
       "      <td>Ads</td>\n",
       "      <td>3</td>\n",
       "      <td>0</td>\n",
       "    </tr>\n",
       "    <tr>\n",
       "      <th>2</th>\n",
       "      <td>Germany</td>\n",
       "      <td>20</td>\n",
       "      <td>0</td>\n",
       "      <td>Seo</td>\n",
       "      <td>14</td>\n",
       "      <td>1</td>\n",
       "    </tr>\n",
       "    <tr>\n",
       "      <th>3</th>\n",
       "      <td>US</td>\n",
       "      <td>23</td>\n",
       "      <td>1</td>\n",
       "      <td>Seo</td>\n",
       "      <td>3</td>\n",
       "      <td>0</td>\n",
       "    </tr>\n",
       "    <tr>\n",
       "      <th>4</th>\n",
       "      <td>US</td>\n",
       "      <td>28</td>\n",
       "      <td>1</td>\n",
       "      <td>Direct</td>\n",
       "      <td>3</td>\n",
       "      <td>0</td>\n",
       "    </tr>\n",
       "  </tbody>\n",
       "</table>\n",
       "</div>"
      ],
      "text/plain": [
       "   country  age  new_user  source  total_pages_visited  converted\n",
       "0    China   22         1  Direct                    2          0\n",
       "1       UK   21         1     Ads                    3          0\n",
       "2  Germany   20         0     Seo                   14          1\n",
       "3       US   23         1     Seo                    3          0\n",
       "4       US   28         1  Direct                    3          0"
      ]
     },
     "execution_count": 3,
     "metadata": {},
     "output_type": "execute_result"
    }
   ],
   "source": [
    "df = pd.read_csv(\"../data/conversion_data_train.csv\", encoding=\"latin-1\")\n",
    "df.head()"
   ]
  },
  {
   "cell_type": "markdown",
   "id": "e86a4343",
   "metadata": {},
   "source": [
    "### Modéle LogiticRegression avec stratify (déséquilibre target)\n",
    "---"
   ]
  },
  {
   "cell_type": "code",
   "execution_count": 12,
   "id": "8a95fa0c",
   "metadata": {},
   "outputs": [
    {
     "name": "stdout",
     "output_type": "stream",
     "text": [
      "--- Évaluation des performances du modèle --- \n",
      "\n",
      " --- Train ---\n",
      "\n",
      "Accuracy  : 0.9862\n",
      "Precision : 0.8549\n",
      "Recall    : 0.6874\n",
      "F1 Score  : 0.7620\n",
      "\n",
      "--- Test ---\n",
      " \n",
      "Accuracy  : 0.9865\n",
      "Precision : 0.8653\n",
      "Recall    : 0.6895\n",
      "F1 Score  : 0.7675\n"
     ]
    }
   ],
   "source": [
    "# Liste des features et de la variable cible\n",
    "features_list = ['total_pages_visited', 'age', 'new_user', 'source', 'country']\n",
    "target_variable = 'converted'\n",
    "\n",
    "# Séparer les variables indépendantes (X) et la variable cible (Y)\n",
    "X = df[features_list]\n",
    "Y = df[target_variable]\n",
    "\n",
    "# Diviser le jeu de données en ensembles d'entraînement (80%) et de test (20%), stratify=repartition des classe(0,1) reste proportionnelle\n",
    "X_train, X_test, Y_train, Y_test = train_test_split(X, Y, test_size=0.2, random_state=42, stratify=Y)\n",
    "\n",
    "# Pipeline pour les colonnes numériques : Imputation + Standardisation\n",
    "numerical_columns = ['total_pages_visited','age', 'new_user' ]\n",
    "numerical_pipeline = Pipeline(steps=[\n",
    "    ('imputer', SimpleImputer(strategy='mean')),  # Remplacer les valeurs manquantes par la moyenne\n",
    "    ('standardization', StandardScaler())  # Standardisation des données numériques\n",
    "])\n",
    "\n",
    "# Pipeline pour les colonnes catégorielles : Imputation + Encodage One-Hot\n",
    "categorical_columns = ['country', 'source']\n",
    "categorical_pipeline = Pipeline(steps=[\n",
    "    ('imputer', SimpleImputer(strategy='most_frequent')),  # Remplacer les valeurs manquantes par la modalité la plus fréquente\n",
    "    ('encoder', OneHotEncoder(drop='first'))  # Encodage One-Hot des variables catégorielles\n",
    "])\n",
    "\n",
    "# Appliquer les pipelines numériques et catégoriels sur les colonnes spécifiées\n",
    "feature_encoder = ColumnTransformer(transformers=[\n",
    "    ('num', numerical_pipeline, numerical_columns),\n",
    "    ('cat', categorical_pipeline, categorical_columns)\n",
    "])\n",
    "\n",
    "# Appliquer les transformations sur les données d'entraînement et de test\n",
    "X_train = feature_encoder.fit_transform(X_train)\n",
    "X_test = feature_encoder.transform(X_test)\n",
    "\n",
    "# Initialisation du modèle de régression logistique\n",
    "lr = LogisticRegression()\n",
    "\n",
    "# Entraînement du modèle sur les données d'entraînement\n",
    "lr.fit(X_train, Y_train)\n",
    "\n",
    "# Prédictions\n",
    "Y_train_pred = lr.predict(X_train)\n",
    "Y_test_pred = lr.predict(X_test)\n",
    "\n",
    "# Métriques \n",
    "print(\"--- Évaluation des performances du modèle --- \\n\")\n",
    "\n",
    "# Train\n",
    "print(\" --- Train ---\\n\")\n",
    "print(f\"Accuracy  : {accuracy_score(Y_train, Y_train_pred):.4f}\")\n",
    "print(f\"Precision : {precision_score(Y_train, Y_train_pred):.4f}\")\n",
    "print(f\"Recall    : {recall_score(Y_train, Y_train_pred):.4f}\")\n",
    "print(f\"F1 Score  : {f1_score(Y_train, Y_train_pred):.4f}\\n\")\n",
    "\n",
    "# Test\n",
    "print(\"--- Test ---\\n \")\n",
    "print(f\"Accuracy  : {accuracy_score(Y_test, Y_test_pred):.4f}\")\n",
    "print(f\"Precision : {precision_score(Y_test, Y_test_pred):.4f}\")\n",
    "print(f\"Recall    : {recall_score(Y_test, Y_test_pred):.4f}\")\n",
    "print(f\"F1 Score  : {f1_score(Y_test, Y_test_pred):.4f}\")\n",
    "\n"
   ]
  },
  {
   "cell_type": "markdown",
   "id": "03ba10b6",
   "metadata": {},
   "source": [
    "### Sauvegarde des résultats\n",
    "---"
   ]
  },
  {
   "cell_type": "code",
   "execution_count": 14,
   "id": "6ec08cea",
   "metadata": {},
   "outputs": [],
   "source": [
    "\n",
    "new_rows = [{\"model\": \"lr\", \"f1\": f1_score(Y_test, Y_test_pred), \"recall\": recall_score(Y_test, Y_test_pred), \"accuracy\":accuracy_score(Y_test, Y_test_pred)}]\n",
    "\n",
    "scores_df = pd.concat([scores_df, pd.DataFrame(new_rows)], ignore_index=True)\n",
    "scores_df.to_csv(\"../data/scores_models.csv\", mode=\"a\", header=False, index=False)"
   ]
  },
  {
   "cell_type": "markdown",
   "id": "c94700c3",
   "metadata": {},
   "source": []
  }
 ],
 "metadata": {
  "kernelspec": {
   "display_name": "base",
   "language": "python",
   "name": "python3"
  },
  "language_info": {
   "codemirror_mode": {
    "name": "ipython",
    "version": 3
   },
   "file_extension": ".py",
   "mimetype": "text/x-python",
   "name": "python",
   "nbconvert_exporter": "python",
   "pygments_lexer": "ipython3",
   "version": "3.12.9"
  }
 },
 "nbformat": 4,
 "nbformat_minor": 5
}
