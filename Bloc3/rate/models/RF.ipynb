{
 "cells": [
  {
   "cell_type": "markdown",
   "id": "0131099d",
   "metadata": {},
   "source": [
    "### Import des bibliothéques\n",
    "---"
   ]
  },
  {
   "cell_type": "code",
   "execution_count": 9,
   "id": "a994a2e9",
   "metadata": {},
   "outputs": [],
   "source": [
    "import pandas as pd\n",
    "import numpy as np\n",
    "\n",
    "\n",
    "from sklearn.model_selection import train_test_split, GridSearchCV\n",
    "from sklearn.pipeline import Pipeline\n",
    "from sklearn.impute import SimpleImputer\n",
    "from sklearn.preprocessing import StandardScaler\n",
    "from sklearn.preprocessing import OneHotEncoder\n",
    "from sklearn.compose import ColumnTransformer\n",
    "from sklearn.ensemble import RandomForestClassifier, BaggingClassifier, GradientBoostingClassifier, StackingClassifier\n",
    "from sklearn.metrics import f1_score, confusion_matrix, accuracy_score, precision_score, recall_score,confusion_matrix, classification_report, roc_curve, auc"
   ]
  },
  {
   "cell_type": "markdown",
   "id": "4d58d94a",
   "metadata": {},
   "source": [
    "###  Chargement des données\n",
    "---"
   ]
  },
  {
   "cell_type": "code",
   "execution_count": 10,
   "id": "b358a886",
   "metadata": {},
   "outputs": [
    {
     "data": {
      "text/html": [
       "<div>\n",
       "<style scoped>\n",
       "    .dataframe tbody tr th:only-of-type {\n",
       "        vertical-align: middle;\n",
       "    }\n",
       "\n",
       "    .dataframe tbody tr th {\n",
       "        vertical-align: top;\n",
       "    }\n",
       "\n",
       "    .dataframe thead th {\n",
       "        text-align: right;\n",
       "    }\n",
       "</style>\n",
       "<table border=\"1\" class=\"dataframe\">\n",
       "  <thead>\n",
       "    <tr style=\"text-align: right;\">\n",
       "      <th></th>\n",
       "      <th>country</th>\n",
       "      <th>age</th>\n",
       "      <th>new_user</th>\n",
       "      <th>source</th>\n",
       "      <th>total_pages_visited</th>\n",
       "      <th>converted</th>\n",
       "    </tr>\n",
       "  </thead>\n",
       "  <tbody>\n",
       "    <tr>\n",
       "      <th>0</th>\n",
       "      <td>China</td>\n",
       "      <td>22</td>\n",
       "      <td>1</td>\n",
       "      <td>Direct</td>\n",
       "      <td>2</td>\n",
       "      <td>0</td>\n",
       "    </tr>\n",
       "    <tr>\n",
       "      <th>1</th>\n",
       "      <td>UK</td>\n",
       "      <td>21</td>\n",
       "      <td>1</td>\n",
       "      <td>Ads</td>\n",
       "      <td>3</td>\n",
       "      <td>0</td>\n",
       "    </tr>\n",
       "    <tr>\n",
       "      <th>2</th>\n",
       "      <td>Germany</td>\n",
       "      <td>20</td>\n",
       "      <td>0</td>\n",
       "      <td>Seo</td>\n",
       "      <td>14</td>\n",
       "      <td>1</td>\n",
       "    </tr>\n",
       "    <tr>\n",
       "      <th>3</th>\n",
       "      <td>US</td>\n",
       "      <td>23</td>\n",
       "      <td>1</td>\n",
       "      <td>Seo</td>\n",
       "      <td>3</td>\n",
       "      <td>0</td>\n",
       "    </tr>\n",
       "    <tr>\n",
       "      <th>4</th>\n",
       "      <td>US</td>\n",
       "      <td>28</td>\n",
       "      <td>1</td>\n",
       "      <td>Direct</td>\n",
       "      <td>3</td>\n",
       "      <td>0</td>\n",
       "    </tr>\n",
       "  </tbody>\n",
       "</table>\n",
       "</div>"
      ],
      "text/plain": [
       "   country  age  new_user  source  total_pages_visited  converted\n",
       "0    China   22         1  Direct                    2          0\n",
       "1       UK   21         1     Ads                    3          0\n",
       "2  Germany   20         0     Seo                   14          1\n",
       "3       US   23         1     Seo                    3          0\n",
       "4       US   28         1  Direct                    3          0"
      ]
     },
     "execution_count": 10,
     "metadata": {},
     "output_type": "execute_result"
    }
   ],
   "source": [
    "df = pd.read_csv(\"../data/conversion_data_train.csv\", encoding=\"latin-1\")\n",
    "df.head()"
   ]
  },
  {
   "cell_type": "markdown",
   "id": "1d3036c6",
   "metadata": {},
   "source": [
    "### Reduction du jeu de Données\n",
    "---"
   ]
  },
  {
   "cell_type": "code",
   "execution_count": 11,
   "id": "7e7c49e0",
   "metadata": {},
   "outputs": [],
   "source": [
    "# Le dataset est important, création d'un échantillon\n",
    "df_sample = df.sample(10000)"
   ]
  },
  {
   "cell_type": "markdown",
   "id": "e86a4343",
   "metadata": {},
   "source": [
    "### Modéle RandomForestClassifier \n",
    "---"
   ]
  },
  {
   "cell_type": "code",
   "execution_count": 12,
   "id": "8a95fa0c",
   "metadata": {},
   "outputs": [
    {
     "name": "stdout",
     "output_type": "stream",
     "text": [
      "Fitting 3 folds for each of 24 candidates, totalling 72 fits\n",
      "--- Évaluation des performances du modèle --- \n",
      "\n",
      " --- Train ---\n",
      "\n",
      "Accuracy  : 0.9890\n",
      "Precision : 0.9369\n",
      "Recall    : 0.7376\n",
      "F1 Score  : 0.8254\n",
      "\n",
      "--- Test ---\n",
      " \n",
      "Accuracy  : 0.9830\n",
      "Precision : 0.8214\n",
      "Recall    : 0.6571\n",
      "F1 Score  : 0.7302\n"
     ]
    }
   ],
   "source": [
    "# Liste des features et de la variable cible\n",
    "features_list = ['total_pages_visited', 'age', 'new_user', 'source', 'country']\n",
    "target_variable = 'converted'\n",
    "\n",
    "# Séparer les variables indépendantes (X) et la variable cible (Y)\n",
    "X = df_sample[features_list]\n",
    "Y = df_sample[target_variable]\n",
    "\n",
    "# Diviser le jeu de données en ensembles d'entraînement (80%) et de test (20%)\n",
    "X_train, X_test, Y_train, Y_test = train_test_split(X, Y, test_size=0.2, random_state=42, stratify=Y)\n",
    "\n",
    "# Pipeline pour les colonnes numériques : Imputation + Standardisation\n",
    "numerical_columns = ['age', 'new_user', 'total_pages_visited']\n",
    "numerical_pipeline = Pipeline(steps=[\n",
    "    ('imputer', SimpleImputer(strategy='mean')),  # Remplacer les valeurs manquantes par la moyenne\n",
    "    ('standardization', StandardScaler())  # Standardisation des données numériques\n",
    "])\n",
    "\n",
    "# Pipeline pour les colonnes catégorielles : Imputation + Encodage One-Hot\n",
    "categorical_columns = ['country', 'source']\n",
    "categorical_pipeline = Pipeline(steps=[\n",
    "    ('imputer', SimpleImputer(strategy='most_frequent')),  # Remplacer les valeurs manquantes par la modalité la plus fréquente\n",
    "    ('encoder', OneHotEncoder(drop='first'))  # Encodage One-Hot des variables catégorielles\n",
    "])\n",
    "\n",
    "# Appliquer les pipelines numériques et catégoriels sur les colonnes spécifiées\n",
    "feature_encoder = ColumnTransformer(transformers=[\n",
    "    ('num', numerical_pipeline, numerical_columns),\n",
    "    ('cat', categorical_pipeline, categorical_columns)\n",
    "])\n",
    "\n",
    "# Appliquer les transformations sur les données d'entraînement et de test\n",
    "X_train = feature_encoder.fit_transform(X_train)\n",
    "X_test = feature_encoder.transform(X_test)\n",
    "\n",
    "# Optimisation des hyperparamètres avec GridSearchCV \n",
    "param_grid = {\n",
    "    'n_estimators': [100, 200],\n",
    "    'max_depth': [10, 20, None],\n",
    "    'min_samples_split': [2, 5],\n",
    "    'min_samples_leaf': [1, 2],\n",
    "}\n",
    "\n",
    "# Initialisation du Modéle \n",
    "rf_clf = RandomForestClassifier(random_state=42)\n",
    "grid_search = GridSearchCV(estimator=rf_clf, param_grid=param_grid, cv=3, n_jobs=-1, verbose=2)\n",
    "grid_search.fit(X_train, Y_train)\n",
    "\n",
    "# Meilleur modèle après recherche d'hyperparamètres\n",
    "best_rf_clf = grid_search.best_estimator_\n",
    "\n",
    "# # Entraînement du modèle optimisé\n",
    "# best_rf_clf.fit(X_train, Y_train)\n",
    "\n",
    "# Prédictions\n",
    "Y_train_pred = best_rf_clf.predict(X_train)\n",
    "Y_test_pred = best_rf_clf.predict(X_test)\n",
    "\n",
    "# Métriques \n",
    "print(\"--- Évaluation des performances du modèle --- \\n\")\n",
    "\n",
    "# Train\n",
    "print(\" --- Train ---\\n\")\n",
    "print(f\"Accuracy  : {accuracy_score(Y_train, Y_train_pred):.4f}\")\n",
    "print(f\"Precision : {precision_score(Y_train, Y_train_pred):.4f}\")\n",
    "print(f\"Recall    : {recall_score(Y_train, Y_train_pred):.4f}\")\n",
    "print(f\"F1 Score  : {f1_score(Y_train, Y_train_pred):.4f}\\n\")\n",
    "\n",
    "# Test\n",
    "print(\"--- Test ---\\n \")\n",
    "print(f\"Accuracy  : {accuracy_score(Y_test, Y_test_pred):.4f}\")\n",
    "print(f\"Precision : {precision_score(Y_test, Y_test_pred):.4f}\")\n",
    "print(f\"Recall    : {recall_score(Y_test, Y_test_pred):.4f}\")\n",
    "print(f\"F1 Score  : {f1_score(Y_test, Y_test_pred):.4f}\")\n",
    "\n",
    "\n",
    "\n"
   ]
  },
  {
   "cell_type": "markdown",
   "id": "83248856",
   "metadata": {},
   "source": [
    "### Sauvegarde des résultats\n",
    "---"
   ]
  },
  {
   "cell_type": "code",
   "execution_count": 13,
   "id": "74965c1a",
   "metadata": {},
   "outputs": [
    {
     "name": "stderr",
     "output_type": "stream",
     "text": [
      "C:\\Users\\natha\\AppData\\Local\\Temp\\ipykernel_27264\\145451096.py:5: FutureWarning: The behavior of DataFrame concatenation with empty or all-NA entries is deprecated. In a future version, this will no longer exclude empty or all-NA columns when determining the result dtypes. To retain the old behavior, exclude the relevant entries before the concat operation.\n",
      "  scores_df = pd.concat([scores_df, pd.DataFrame(new_rows)], ignore_index=True)\n"
     ]
    }
   ],
   "source": [
    "# Création du DataFrame pour la première fois\n",
    "scores_df = pd.DataFrame(columns=[\"model\", \"f1\", \"recall\", \"accuracy\"])\n",
    "new_rows = [{\"model\": \"best_rf_clf\", \"f1\": f1_score(Y_test, Y_test_pred), \"recall\": recall_score(Y_test, Y_test_pred), \"accuracy\":accuracy_score(Y_test, Y_test_pred)}]\n",
    "\n",
    "scores_df = pd.concat([scores_df, pd.DataFrame(new_rows)], ignore_index=True)\n",
    "scores_df.to_csv(\"../data/scores_models.csv\", mode=\"a\", header=False, index=False)"
   ]
  },
  {
   "cell_type": "markdown",
   "id": "a245ec67",
   "metadata": {},
   "source": [
    "### Prédictions finales\n",
    "---"
   ]
  },
  {
   "cell_type": "code",
   "execution_count": 14,
   "id": "eda98fcb",
   "metadata": {},
   "outputs": [
    {
     "name": "stderr",
     "output_type": "stream",
     "text": [
      "<>:9: SyntaxWarning: invalid escape sequence '\\d'\n",
      "<>:9: SyntaxWarning: invalid escape sequence '\\d'\n",
      "C:\\Users\\natha\\AppData\\Local\\Temp\\ipykernel_27264\\1941615342.py:9: SyntaxWarning: invalid escape sequence '\\d'\n",
      "  data_without_labels = pd.read_csv('..\\data\\conversion_data_test.csv')\n"
     ]
    }
   ],
   "source": [
    "# toutes les données d'entrainement réunis\n",
    "X = np.append(X_train, X_test, axis=0)\n",
    "Y = np.append(Y_train, Y_test)\n",
    "\n",
    "# reentrainement du modele\n",
    "rf_clf.fit(X, Y)\n",
    "\n",
    "# charger les données sans la target\n",
    "data_without_labels = pd.read_csv('..\\data\\conversion_data_test.csv')\n",
    "\n",
    "# selection des variables utilisées dans notre modéle\n",
    "X_without_labels = data_without_labels[features_list]\n",
    "\n",
    "# application du meme pretraitement que pr les données entrainement\n",
    "X_without_labels = feature_encoder.transform(X_without_labels)\n",
    "\n",
    "# Predictions\n",
    "Y_prediction = rf_clf.predict(X_without_labels)\n",
    "\n",
    "# sauvegarder fichier\n",
    "pd.DataFrame({'converted' : Y_prediction}).to_csv('../resultats/conversion_data_test_predictions_nath_rf.csv', index=False)"
   ]
  },
  {
   "cell_type": "markdown",
   "id": "c94700c3",
   "metadata": {},
   "source": []
  }
 ],
 "metadata": {
  "kernelspec": {
   "display_name": "base",
   "language": "python",
   "name": "python3"
  },
  "language_info": {
   "codemirror_mode": {
    "name": "ipython",
    "version": 3
   },
   "file_extension": ".py",
   "mimetype": "text/x-python",
   "name": "python",
   "nbconvert_exporter": "python",
   "pygments_lexer": "ipython3",
   "version": "3.12.9"
  }
 },
 "nbformat": 4,
 "nbformat_minor": 5
}
